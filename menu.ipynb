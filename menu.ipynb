{
 "cells": [
  {
   "cell_type": "code",
   "execution_count": 2,
   "id": "e5e48ba3",
   "metadata": {},
   "outputs": [
    {
     "data": {
      "application/vnd.jupyter.widget-view+json": {
       "model_id": "4b04e98c92e04104a53747da36a7a16e",
       "version_major": 2,
       "version_minor": 0
      },
      "text/plain": [
       "HTML(value=\"<div style='background-color: #3498db; color: white; font-size: 24px; padding: 10px; text-align: c…"
      ]
     },
     "metadata": {},
     "output_type": "display_data"
    },
    {
     "data": {
      "application/vnd.jupyter.widget-view+json": {
       "model_id": "921e695f944b40c7bc13b2534c849702",
       "version_major": 2,
       "version_minor": 0
      },
      "text/plain": [
       "HBox(children=(Button(button_style='info', description='CW Preprocessing', layout=Layout(width='auto'), style=…"
      ]
     },
     "metadata": {},
     "output_type": "display_data"
    },
    {
     "data": {
      "application/vnd.jupyter.widget-view+json": {
       "model_id": "c9b0e7427e0c4fcabf35aec4dfeceade",
       "version_major": 2,
       "version_minor": 0
      },
      "text/plain": [
       "VBox(children=(IntSlider(value=1, description='Student ID', max=156, min=1, style=SliderStyle(description_widt…"
      ]
     },
     "metadata": {},
     "output_type": "display_data"
    },
    {
     "data": {
      "application/vnd.jupyter.widget-view+json": {
       "model_id": "1b9f50808f184f3db78c1caab779d94f",
       "version_major": 2,
       "version_minor": 0
      },
      "text/plain": [
       "Output()"
      ]
     },
     "metadata": {},
     "output_type": "display_data"
    },
    {
     "data": {
      "application/vnd.jupyter.widget-view+json": {
       "model_id": "8afd1a36216d4519b5b6a4ba3cb076e0",
       "version_major": 2,
       "version_minor": 0
      },
      "text/plain": [
       "Output()"
      ]
     },
     "metadata": {},
     "output_type": "display_data"
    },
    {
     "data": {
      "application/vnd.jupyter.widget-view+json": {
       "model_id": "e6f1027ecc394c22a47a14612436f664",
       "version_major": 2,
       "version_minor": 0
      },
      "text/plain": [
       "Output()"
      ]
     },
     "metadata": {},
     "output_type": "display_data"
    },
    {
     "data": {
      "application/vnd.jupyter.widget-view+json": {
       "model_id": "e13821918ddb44feb4ba9816707c7630",
       "version_major": 2,
       "version_minor": 0
      },
      "text/plain": [
       "Output()"
      ]
     },
     "metadata": {},
     "output_type": "display_data"
    },
    {
     "data": {
      "application/vnd.jupyter.widget-view+json": {
       "model_id": "cd63ead08158408fb0e5cce00b273402",
       "version_major": 2,
       "version_minor": 0
      },
      "text/plain": [
       "Output()"
      ]
     },
     "metadata": {},
     "output_type": "display_data"
    }
   ],
   "source": [
    "\"\"\"\n",
    "StudentID: F332804\n",
    "Last Modified date: 22/01/2024\n",
    "\"\"\"\n",
    "\n",
    "# Imports Python standard library modules\n",
    "from IPython.display import display, HTML\n",
    "import ipywidgets as widgets\n",
    "import sqlite3\n",
    "\n",
    "# Imports application related python files\n",
    "from DAFunction import *\n",
    "from CWPreprocessing import *\n",
    "from testResults import *\n",
    "from studentPerformance import *\n",
    "from underperformingStudent import *\n",
    "from hardworkingStudents import HardworkingStudentAnalyzer\n",
    "\n",
    "# Global variable to track CW Preprocessing status\n",
    "cw_preprocessing_success = False\n",
    "\n",
    "# On click functions\n",
    "def clicked_cw_preprocessing(b):\n",
    "    \"\"\"\n",
    "    Click event for CW Preprocessing button.\n",
    "    Performs CW Preprocessing, displays success message and updates the status\n",
    "    \"\"\"\n",
    "    global cw_preprocessing_success\n",
    "    \n",
    "    with output_cw_preprocessing:\n",
    "        output_cw_preprocessing.clear_output()\n",
    "        output_test_results.clear_output()\n",
    "        output_students_performance.clear_output()\n",
    "        output_underperforming_students.clear_output()\n",
    "        output_hardworking_students.clear_output()\n",
    "        # Execution of CW Preprocessing\n",
    "        main_CWPreprocess()\n",
    "        html_content = (\n",
    "            '<div style=\"font-family: Arial, sans-serif;' \n",
    "            'color: #4da8da; font-weight: bold;\">'\n",
    "            'Tables are created and the relevant preprocessed data' \n",
    "            'is loaded successfully</div>'\n",
    "        )\n",
    "        display(HTML(html_content))\n",
    "        cw_preprocessing_success = True\n",
    "        enable_disable_buttons()\n",
    "\n",
    "def clicked_test_results(b):\n",
    "    \"\"\"\n",
    "    Click event for Test Results button.\n",
    "    Fetches and displays test results for a specific student.\n",
    "    \"\"\"\n",
    "    with output_test_results:\n",
    "        output_cw_preprocessing.clear_output()\n",
    "        output_test_results.clear_output()\n",
    "        output_students_performance.clear_output()\n",
    "        output_underperforming_students.clear_output()\n",
    "        output_hardworking_students.clear_output()\n",
    "        \n",
    "        student_id = slider.value\n",
    "        \n",
    "        # Execute main function for test Results\n",
    "        main_testResults(student_id)\n",
    "\n",
    "def clicked_students_performance(b):\n",
    "    \"\"\"\n",
    "    Click event for Students Performance button.\n",
    "    Fetches and displays performance details for a specific student and test\n",
    "    \"\"\"\n",
    "    with output_students_performance:\n",
    "        output_cw_preprocessing.clear_output()\n",
    "        output_test_results.clear_output()\n",
    "        output_students_performance.clear_output()\n",
    "        output_underperforming_students.clear_output()\n",
    "        output_hardworking_students.clear_output()\n",
    "        \n",
    "        student_id = slider.value\n",
    "        selected_test_name = testname.value\n",
    "        \n",
    "        # Execution of main function for student performance\n",
    "        main_studentPerformance(student_id, selected_test_name)\n",
    "\n",
    "def clicked_underperforming_students(b):\n",
    "    \"\"\"\n",
    "    Click event for Underperforming Students button.\n",
    "    Fetches and displays underperforming students data.\n",
    "    \"\"\"\n",
    "    with output_underperforming_students:\n",
    "        output_cw_preprocessing.clear_output()\n",
    "        output_test_results.clear_output()\n",
    "        output_students_performance.clear_output()\n",
    "        output_underperforming_students.clear_output()\n",
    "        output_hardworking_students.clear_output()\n",
    "        \n",
    "        # Display header for underperforming students\n",
    "        html_cont = (\n",
    "            '<div style=\"font-family: Arial, sans-serif;'\n",
    "            'color: #4da8da; font-weight: bold;\">'\n",
    "            'Underperforming Students Data:</div>'\n",
    "        )\n",
    "        display(HTML(html_cont))\n",
    "        \n",
    "        # Display note about NaN values\n",
    "        html_cont_Nan = (\n",
    "            '<div style=\"font-family: Arial, sans-serif;'\n",
    "            'color: #4da8da; font-weight: bold;\">'\n",
    "            'Note: nan values indicate that those tests' \n",
    "            ' were not attempted by the student</div>'\n",
    "        )\n",
    "        display(HTML(html_cont_Nan))\n",
    "        \n",
    "        # Execution of main function for underperforming students\n",
    "        main_underperforming_students()\n",
    "        \n",
    "def clicked_hardworking_students(b):\n",
    "    with output_hardworking_students:\n",
    "        \"\"\"\n",
    "        Click event for Hardworking Students button.\n",
    "        Fetches and displays hardworking students' data.\n",
    "        \"\"\"\n",
    "        output_cw_preprocessing.clear_output()\n",
    "        output_test_results.clear_output()\n",
    "        output_students_performance.clear_output()\n",
    "        output_underperforming_students.clear_output()\n",
    "        output_hardworking_students.clear_output()\n",
    "        \n",
    "        conn = sqlite3.connect(\"CWDatabase.db\")\n",
    "        stud_tbl_df = merge_tables()\n",
    "        df_rate_table = fetch_data_from_table('stud_rate_table', conn)\n",
    "        df_results = replace_null_values_with_zero(stud_tbl_df)\n",
    "        analyzer = HardworkingStudentAnalyzer('CWDatabase.db')\n",
    "        hardworking_students_df = analyzer.generate_hardworking_students(\n",
    "            df_results, \n",
    "            df_rate_table)\n",
    "        \n",
    "        # Display header for hardworking students\n",
    "        html_cont = (\n",
    "            '<div style=\"font-family: Arial, sans-serif;'\n",
    "            'color: #4da8da; font-weight: bold;\">'\n",
    "            'Hardworking Students Data:</div>'\n",
    "        )\n",
    "        display(HTML(html_cont))\n",
    "        \n",
    "        # Display hardworking students data\n",
    "        display(hardworking_students_df.style.hide())\n",
    "\n",
    "# Create heading with colored box and great font\n",
    "heading_style = (\n",
    "    'background-color: #3498db; color: white; font-size: 24px; '\n",
    "    'padding: 10px; text-align: center;'\n",
    ")\n",
    "heading = widgets.HTML(\"<div style='\" + heading_style + \"'>\"\n",
    "                       \"Student Assessment Monitoring System</div>\")\n",
    "\n",
    "# Create slider with a range message\n",
    "slider = widgets.IntSlider(value=0, min=1, max=156, description='Student ID', \n",
    "                           style={'description_width': 'initial'})\n",
    "range_message = widgets.HTML(\"<div style='font-size: 14px; font-weight: bold;\\\n",
    "                             color: #4da8da;'>\"\n",
    "                             \"Choose student IDs within the range of 1 to 156\\\n",
    "                             </div>\")\n",
    "\n",
    "\n",
    "\n",
    "# Create dropdown for test names\n",
    "testname = widgets.Dropdown(\n",
    "    options=['mock', 'test1', 'test2', 'test3', 'test4', 'sumtest'], \n",
    "    description='Test Name')\n",
    "\n",
    "# Create button components with styling\n",
    "button_cw_preprocessing = widgets.Button(\n",
    "    description=\"CW Preprocessing\",\n",
    "    button_style='info',\n",
    "    layout=widgets.Layout(width='auto', box_shadow='3px 3px 5px grey'),\n",
    ")\n",
    "button_test_results = widgets.Button(\n",
    "    description=\"Test Results\",\n",
    "    button_style='info',\n",
    "    layout=widgets.Layout(width='auto', box_shadow='3px 3px 5px grey'),\n",
    "    disabled=True,\n",
    ")\n",
    "button_students_performance = widgets.Button(\n",
    "    description=\"Students Performance\",\n",
    "    button_style='info',\n",
    "    layout=widgets.Layout(width='auto', box_shadow='3px 3px 5px grey'),\n",
    "    disabled=True,\n",
    ")\n",
    "button_underperforming_students = widgets.Button(\n",
    "    description=\"Underperforming Students\",\n",
    "    button_style='info',\n",
    "    layout=widgets.Layout(width='auto', box_shadow='3px 3px 5px grey'),\n",
    "    disabled=True,\n",
    ")\n",
    "button_hardworking_students = widgets.Button(\n",
    "    description=\"Hardworking Students\",\n",
    "    button_style='info',\n",
    "    layout=widgets.Layout(width='auto', box_shadow='3px 3px 5px grey'),\n",
    "    disabled=True,\n",
    ")\n",
    "\n",
    "# Set button click event handlers\n",
    "button_cw_preprocessing.on_click(clicked_cw_preprocessing)\n",
    "button_test_results.on_click(clicked_test_results)\n",
    "button_students_performance.on_click(clicked_students_performance)\n",
    "button_underperforming_students.on_click(clicked_underperforming_students)\n",
    "button_hardworking_students.on_click(clicked_hardworking_students)\n",
    "\n",
    "# Function to enable/disable buttons based on CW Preprocessing success\n",
    "def enable_disable_buttons():\n",
    "    \"\"\"\n",
    "    Enable/disable buttons based on the status of CW Preprocessing.\n",
    "    \"\"\"\n",
    "    button_test_results.disabled = not cw_preprocessing_success\n",
    "    button_students_performance.disabled = not cw_preprocessing_success\n",
    "    button_underperforming_students.disabled = not cw_preprocessing_success\n",
    "    button_hardworking_students.disabled = not cw_preprocessing_success\n",
    "    \n",
    "# Center align the buttons by setting justify_content property to 'center'\n",
    "buttons_container = widgets.HBox([button_cw_preprocessing, button_test_results, \n",
    "                                  button_students_performance,\n",
    "                                  button_underperforming_students, \n",
    "                                  button_hardworking_students],\n",
    "                                  layout=widgets.Layout(\n",
    "                                    justify_content='center'))\n",
    "\n",
    "output_cw_preprocessing = widgets.Output()\n",
    "output_test_results = widgets.Output()\n",
    "output_students_performance = widgets.Output()\n",
    "output_underperforming_students = widgets.Output()\n",
    "output_hardworking_students = widgets.Output()\n",
    "\n",
    "# Display heading, buttons, slider, dropdown, and corresponding output widgets\n",
    "display(heading)\n",
    "display(buttons_container)\n",
    "display(widgets.VBox([slider, range_message, testname]))\n",
    "display(output_cw_preprocessing)\n",
    "display(output_test_results)\n",
    "display(output_students_performance)\n",
    "display(output_underperforming_students)\n",
    "display(output_hardworking_students)\n"
   ]
  },
  {
   "cell_type": "code",
   "execution_count": null,
   "id": "0f621d98",
   "metadata": {},
   "outputs": [],
   "source": []
  }
 ],
 "metadata": {
  "kernelspec": {
   "display_name": "Python 3 (ipykernel)",
   "language": "python",
   "name": "python3"
  },
  "language_info": {
   "codemirror_mode": {
    "name": "ipython",
    "version": 3
   },
   "file_extension": ".py",
   "mimetype": "text/x-python",
   "name": "python",
   "nbconvert_exporter": "python",
   "pygments_lexer": "ipython3",
   "version": "3.11.5"
  }
 },
 "nbformat": 4,
 "nbformat_minor": 5
}
